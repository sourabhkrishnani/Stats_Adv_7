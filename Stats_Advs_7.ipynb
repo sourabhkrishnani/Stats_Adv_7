{
  "nbformat": 4,
  "nbformat_minor": 0,
  "metadata": {
    "colab": {
      "provenance": []
    },
    "kernelspec": {
      "name": "python3",
      "display_name": "Python 3"
    },
    "language_info": {
      "name": "python"
    }
  },
  "cells": [
    {
      "cell_type": "markdown",
      "source": [
        "### Q1"
      ],
      "metadata": {
        "id": "cx7iP24feQvv"
      }
    },
    {
      "cell_type": "code",
      "source": [
        "import numpy as np\n",
        "from scipy import stats\n",
        "\n",
        "def variance_ratio_test(data1, data2):\n",
        "    # Calculate variances for both groups\n",
        "    var1 = np.var(data1, ddof=1)  # Sample variance for data1\n",
        "    var2 = np.var(data2, ddof=1)  # Sample variance for data2\n",
        "\n",
        "    # Calculate the F-statistic (larger variance / smaller variance)\n",
        "    F_value = max(var1, var2) / min(var1, var2)\n",
        "\n",
        "    # Degrees of freedom for both groups\n",
        "    df1 = len(data1) - 1  # Degrees of freedom for group 1\n",
        "    df2 = len(data2) - 1  # Degrees of freedom for group 2\n",
        "\n",
        "    # Calculate the p-value for the F-statistic using the F-distribution\n",
        "    p_value = 1 - stats.f.cdf(F_value, df1, df2)\n",
        "\n",
        "    return F_value, p_value\n",
        "\n",
        "# Example usage\n",
        "data1 = np.random.normal(10, 2, 30)  # Sample data 1\n",
        "data2 = np.random.normal(12, 3, 30)  # Sample data 2\n",
        "\n",
        "F_value, p_value = variance_ratio_test(data1, data2)\n",
        "\n",
        "print(f\"F-value: {F_value}\")\n",
        "print(f\"P-value: {p_value}\")\n"
      ],
      "metadata": {
        "colab": {
          "base_uri": "https://localhost:8080/"
        },
        "id": "JpK78oKdeRE8",
        "outputId": "31ecb33e-3c74-4798-89db-142e6f448af5"
      },
      "execution_count": 1,
      "outputs": [
        {
          "output_type": "stream",
          "name": "stdout",
          "text": [
            "F-value: 2.292653247628176\n",
            "P-value: 0.014460390721399596\n"
          ]
        }
      ]
    },
    {
      "cell_type": "markdown",
      "source": [
        "### Q2"
      ],
      "metadata": {
        "id": "qBa6FC4veRXP"
      }
    },
    {
      "cell_type": "code",
      "source": [
        "from scipy.stats import f\n",
        "\n",
        "def critical_F_value(df1, df2, alpha=0.05):\n",
        "    # For a two-tailed test, we use alpha/2 for the upper tail critical value\n",
        "    upper_critical_value = f.ppf(1 - alpha / 2, df1, df2)\n",
        "\n",
        "    # The lower critical value is the reciprocal of the upper critical value\n",
        "    lower_critical_value = 1 / upper_critical_value\n",
        "\n",
        "    return lower_critical_value, upper_critical_value\n",
        "\n",
        "# Example usage\n",
        "df1 = 5  # degrees of freedom for the numerator\n",
        "df2 = 10  # degrees of freedom for the denominator\n",
        "alpha = 0.05  # significance level\n",
        "\n",
        "lower_F, upper_F = critical_F_value(df1, df2, alpha)\n",
        "\n",
        "print(f\"Lower critical F-value: {lower_F}\")\n",
        "print(f\"Upper critical F-value: {upper_F}\")\n"
      ],
      "metadata": {
        "colab": {
          "base_uri": "https://localhost:8080/"
        },
        "id": "wluoSBYIeRoo",
        "outputId": "05020fc0-72c1-4b69-ac79-6c1923853ff5"
      },
      "execution_count": 2,
      "outputs": [
        {
          "output_type": "stream",
          "name": "stdout",
          "text": [
            "Lower critical F-value: 0.23606699163560682\n",
            "Upper critical F-value: 4.236085668188633\n"
          ]
        }
      ]
    },
    {
      "cell_type": "markdown",
      "source": [
        "### Q3"
      ],
      "metadata": {
        "id": "VJFM2LZHeR6m"
      }
    },
    {
      "cell_type": "code",
      "source": [
        "import numpy as np\n",
        "from scipy import stats\n",
        "\n",
        "def f_test_variances(sample1, sample2):\n",
        "    # Calculate sample variances (using ddof=1 for sample variance)\n",
        "    var1 = np.var(sample1, ddof=1)\n",
        "    var2 = np.var(sample2, ddof=1)\n",
        "\n",
        "    # Degrees of freedom\n",
        "    df1 = len(sample1) - 1  # Degrees of freedom for sample 1\n",
        "    df2 = len(sample2) - 1  # Degrees of freedom for sample 2\n",
        "\n",
        "    # Calculate the F-statistic (larger variance / smaller variance)\n",
        "    F_value = max(var1, var2) / min(var1, var2)\n",
        "\n",
        "    # Calculate the p-value for the F-statistic using the F-distribution\n",
        "    p_value = 1 - stats.f.cdf(F_value, df1, df2)\n",
        "\n",
        "    return F_value, df1, df2, p_value\n",
        "\n",
        "# Example usage:\n",
        "np.random.seed(42)  # For reproducibility\n",
        "\n",
        "# Generate random samples from two normal distributions with known variances\n",
        "mean1, std1, n1 = 10, 2, 30  # mean, standard deviation, sample size for distribution 1\n",
        "mean2, std2, n2 = 12, 3, 30  # mean, standard deviation, sample size for distribution 2\n",
        "\n",
        "# Generate random samples\n",
        "sample1 = np.random.normal(loc=mean1, scale=std1, size=n1)\n",
        "sample2 = np.random.normal(loc=mean2, scale=std2, size=n2)\n",
        "\n",
        "# Perform F-test for equality of variances\n",
        "F_value, df1, df2, p_value = f_test_variances(sample1, sample2)\n",
        "\n",
        "# Output the results\n",
        "print(f\"F-value: {F_value}\")\n",
        "print(f\"Degrees of freedom (df1): {df1}, Degrees of freedom (df2): {df2}\")\n",
        "print(f\"P-value: {p_value}\")\n",
        "\n",
        "# Interpret the results\n",
        "alpha = 0.05\n",
        "if p_value < alpha:\n",
        "    print(\"Reject the null hypothesis: The variances are significantly different.\")\n",
        "else:\n",
        "    print(\"Fail to reject the null hypothesis: The variances are equal.\")\n"
      ],
      "metadata": {
        "colab": {
          "base_uri": "https://localhost:8080/"
        },
        "id": "lC0p8RC6eSNC",
        "outputId": "f374b0de-b550-4c83-ca72-f60f2589ff67"
      },
      "execution_count": 3,
      "outputs": [
        {
          "output_type": "stream",
          "name": "stdout",
          "text": [
            "F-value: 2.4081636671276785\n",
            "Degrees of freedom (df1): 29, Degrees of freedom (df2): 29\n",
            "P-value: 0.010437797725393105\n",
            "Reject the null hypothesis: The variances are significantly different.\n"
          ]
        }
      ]
    },
    {
      "cell_type": "markdown",
      "source": [
        "### Q4"
      ],
      "metadata": {
        "id": "n5RJouB_eSgt"
      }
    },
    {
      "cell_type": "code",
      "source": [
        "from scipy.stats import f\n",
        "\n",
        "def conduct_f_test(pop_variance1, pop_variance2, n1, n2, alpha=0.05):\n",
        "    # Degrees of freedom for each population\n",
        "    df1 = n1 - 1\n",
        "    df2 = n2 - 1\n",
        "\n",
        "    # Calculate the F-statistic (larger variance / smaller variance)\n",
        "    F_value = max(pop_variance1, pop_variance2) / min(pop_variance1, pop_variance2)\n",
        "\n",
        "    # Calculate the critical F-value for the given alpha (5% significance level)\n",
        "    critical_F_value = f.ppf(1 - alpha / 2, df1, df2)  # Two-tailed test\n",
        "\n",
        "    # Calculate the p-value using the F-distribution CDF\n",
        "    p_value = 1 - f.cdf(F_value, df1, df2)\n",
        "\n",
        "    # Compare F-statistic with critical value and interpret result\n",
        "    reject_null = p_value < alpha\n",
        "\n",
        "    return F_value, df1, df2, p_value, critical_F_value, reject_null\n",
        "\n",
        "# Example usage\n",
        "pop_variance1 = 10  # Variance for population 1\n",
        "pop_variance2 = 15  # Variance for population 2\n",
        "n1 = n2 = 12  # Sample size for each population\n",
        "\n",
        "# Perform F-test\n",
        "F_value, df1, df2, p_value, critical_F_value, reject_null = conduct_f_test(pop_variance1, pop_variance2, n1, n2)\n",
        "\n",
        "# Output the results\n",
        "print(f\"F-value: {F_value}\")\n",
        "print(f\"Degrees of freedom (df1): {df1}, Degrees of freedom (df2): {df2}\")\n",
        "print(f\"Critical F-value: {critical_F_value}\")\n",
        "print(f\"P-value: {p_value}\")\n",
        "\n",
        "# Interpret the result\n",
        "if reject_null:\n",
        "    print(\"Reject the null hypothesis: The variances are significantly different.\")\n",
        "else:\n",
        "    print(\"Fail to reject the null hypothesis: The variances are equal.\")\n"
      ],
      "metadata": {
        "colab": {
          "base_uri": "https://localhost:8080/"
        },
        "id": "wGLTX_AbeSyA",
        "outputId": "9893479b-0c8a-458e-8189-f406f7dd548e"
      },
      "execution_count": 4,
      "outputs": [
        {
          "output_type": "stream",
          "name": "stdout",
          "text": [
            "F-value: 1.5\n",
            "Degrees of freedom (df1): 11, Degrees of freedom (df2): 11\n",
            "Critical F-value: 3.473699051085809\n",
            "P-value: 0.25619489936789974\n",
            "Fail to reject the null hypothesis: The variances are equal.\n"
          ]
        }
      ]
    },
    {
      "cell_type": "markdown",
      "source": [
        "### Q5"
      ],
      "metadata": {
        "id": "J9a_BYGUeTDY"
      }
    },
    {
      "cell_type": "code",
      "source": [
        "from scipy.stats import f\n",
        "\n",
        "def conduct_f_test(sample_variance, claimed_variance, sample_size, alpha=0.01):\n",
        "    # Degrees of freedom\n",
        "    df1 = sample_size - 1  # Degrees of freedom for the sample variance\n",
        "    df2 = sample_size - 1  # Degrees of freedom for the claimed variance\n",
        "\n",
        "    # Calculate the F-statistic\n",
        "    F_value = sample_variance / claimed_variance\n",
        "\n",
        "    # Calculate the critical F-value for two-tailed test at the given alpha\n",
        "    critical_F_upper = f.ppf(1 - alpha / 2, df1, df2)  # Upper critical value\n",
        "    critical_F_lower = f.ppf(alpha / 2, df1, df2)     # Lower critical value\n",
        "\n",
        "    # Calculate the p-value for the F-statistic\n",
        "    p_value = 2 * min(f.cdf(F_value, df1, df2), 1 - f.cdf(F_value, df1, df2))\n",
        "\n",
        "    # Determine if we reject the null hypothesis\n",
        "    reject_null = (F_value < critical_F_lower or F_value > critical_F_upper)\n",
        "\n",
        "    return F_value, df1, df2, p_value, critical_F_lower, critical_F_upper, reject_null\n",
        "\n",
        "# Given data\n",
        "sample_variance = 0.006\n",
        "claimed_variance = 0.005\n",
        "sample_size = 25\n",
        "\n",
        "# Perform the F-test\n",
        "F_value, df1, df2, p_value, critical_F_lower, critical_F_upper, reject_null = conduct_f_test(sample_variance, claimed_variance, sample_size)\n",
        "\n",
        "# Output the results\n",
        "print(f\"F-value: {F_value}\")\n",
        "print(f\"Degrees of freedom (df1): {df1}, Degrees of freedom (df2): {df2}\")\n",
        "print(f\"Critical F-values: Lower: {critical_F_lower}, Upper: {critical_F_upper}\")\n",
        "print(f\"P-value: {p_value}\")\n",
        "\n",
        "# Interpretation\n",
        "if reject_null:\n",
        "    print(\"Reject the null hypothesis: The claim about the variance is not justified.\")\n",
        "else:\n",
        "    print(\"Fail to reject the null hypothesis: The claim about the variance is justified.\")\n"
      ],
      "metadata": {
        "colab": {
          "base_uri": "https://localhost:8080/"
        },
        "id": "1VdNqFh5eTWb",
        "outputId": "35c7c469-9fe2-4922-f5fe-fcad886fe637"
      },
      "execution_count": 5,
      "outputs": [
        {
          "output_type": "stream",
          "name": "stdout",
          "text": [
            "F-value: 1.2\n",
            "Degrees of freedom (df1): 24, Degrees of freedom (df2): 24\n",
            "Critical F-values: Lower: 0.3370701342685674, Upper: 2.966741631292762\n",
            "P-value: 0.6587309365634488\n",
            "Fail to reject the null hypothesis: The claim about the variance is justified.\n"
          ]
        }
      ]
    },
    {
      "cell_type": "markdown",
      "source": [
        "### Q6"
      ],
      "metadata": {
        "id": "7yb0jt2BeTpP"
      }
    },
    {
      "cell_type": "code",
      "source": [
        "def f_distribution_mean_variance(df1, df2):\n",
        "    # Check if degrees of freedom are valid for calculating mean and variance\n",
        "    if df1 <= 2:\n",
        "        raise ValueError(\"df1 must be greater than 2 to calculate mean.\")\n",
        "    if df2 <= 4:\n",
        "        raise ValueError(\"df2 must be greater than 4 to calculate variance.\")\n",
        "\n",
        "    # Calculate the mean\n",
        "    mean = df2 / (df2 - 2) if df2 > 2 else float('nan')\n",
        "\n",
        "    # Calculate the variance\n",
        "    variance = (2 * (df2 ** 2) * (df1 + df2 - 2)) / (df1 * (df2 - 2) ** 2 * (df2 - 4)) if df2 > 4 else float('nan')\n",
        "\n",
        "    return mean, variance\n",
        "\n",
        "# Example usage:\n",
        "df1 = 5  # Degrees of freedom for the numerator\n",
        "df2 = 10  # Degrees of freedom for the denominator\n",
        "\n",
        "mean, variance = f_distribution_mean_variance(df1, df2)\n",
        "print(f\"Mean: {mean}, Variance: {variance}\")\n"
      ],
      "metadata": {
        "colab": {
          "base_uri": "https://localhost:8080/"
        },
        "id": "bq2t7a8FeT-I",
        "outputId": "a930f940-623f-4e5d-bcfc-dce34353e9c7"
      },
      "execution_count": 6,
      "outputs": [
        {
          "output_type": "stream",
          "name": "stdout",
          "text": [
            "Mean: 1.25, Variance: 1.3541666666666667\n"
          ]
        }
      ]
    },
    {
      "cell_type": "markdown",
      "source": [
        "### Q7"
      ],
      "metadata": {
        "id": "cDCgBNa8eUOj"
      }
    },
    {
      "cell_type": "code",
      "source": [
        "from scipy.stats import f\n",
        "\n",
        "def conduct_f_test(s1_squared, s2_squared, n1, n2, alpha=0.10):\n",
        "    # Degrees of freedom\n",
        "    df1 = n1 - 1  # Degrees of freedom for the first sample\n",
        "    df2 = n2 - 1  # Degrees of freedom for the second sample\n",
        "\n",
        "    # Calculate the F-statistic\n",
        "    F_value = s1_squared / s2_squared if s1_squared > s2_squared else s2_squared / s1_squared\n",
        "\n",
        "    # Calculate the critical F-values for a two-tailed test at significance level alpha\n",
        "    critical_F_upper = f.ppf(1 - alpha / 2, df1, df2)  # Upper critical value\n",
        "    critical_F_lower = f.ppf(alpha / 2, df1, df2)     # Lower critical value\n",
        "\n",
        "    # Calculate the p-value for the F-statistic\n",
        "    p_value = 2 * min(f.cdf(F_value, df1, df2), 1 - f.cdf(F_value, df1, df2))\n",
        "\n",
        "    # Determine if we reject the null hypothesis\n",
        "    reject_null = (F_value < critical_F_lower or F_value > critical_F_upper)\n",
        "\n",
        "    return F_value, df1, df2, p_value, critical_F_lower, critical_F_upper, reject_null\n",
        "\n",
        "# Given data\n",
        "s1_squared = 25  # Sample variance for the first sample\n",
        "s2_squared = 20  # Sample variance for the second sample\n",
        "n1 = 10  # Sample size for the first sample\n",
        "n2 = 15  # Sample size for the second sample\n",
        "\n",
        "# Perform the F-test\n",
        "F_value, df1, df2, p_value, critical_F_lower, critical_F_upper, reject_null = conduct_f_test(s1_squared, s2_squared, n1, n2)\n",
        "\n",
        "# Output the results\n",
        "print(f\"F-value: {F_value}\")\n",
        "print(f\"Degrees of freedom (df1): {df1}, Degrees of freedom (df2): {df2}\")\n",
        "print(f\"Critical F-values: Lower: {critical_F_lower}, Upper: {critical_F_upper}\")\n",
        "print(f\"P-value: {p_value}\")\n",
        "\n",
        "# Interpretation\n",
        "if reject_null:\n",
        "    print(\"Reject the null hypothesis: The variances are significantly different.\")\n",
        "else:\n",
        "    print(\"Fail to reject the null hypothesis: The variances are not significantly different.\")\n"
      ],
      "metadata": {
        "colab": {
          "base_uri": "https://localhost:8080/"
        },
        "id": "1aiK2cKBeUfz",
        "outputId": "2c9556fe-3a23-4fa5-fd69-67f4da27f255"
      },
      "execution_count": 7,
      "outputs": [
        {
          "output_type": "stream",
          "name": "stdout",
          "text": [
            "F-value: 1.25\n",
            "Degrees of freedom (df1): 9, Degrees of freedom (df2): 14\n",
            "Critical F-values: Lower: 0.3305268601412525, Upper: 2.6457907352338195\n",
            "P-value: 0.6832194382585954\n",
            "Fail to reject the null hypothesis: The variances are not significantly different.\n"
          ]
        }
      ]
    },
    {
      "cell_type": "markdown",
      "source": [
        "### Q8"
      ],
      "metadata": {
        "id": "8RJJu7nweUzT"
      }
    },
    {
      "cell_type": "code",
      "source": [
        "import numpy as np\n",
        "from scipy.stats import f\n",
        "\n",
        "# Data for the two restaurants\n",
        "restaurant_A = np.array([24, 25, 28, 23, 22, 20, 27])\n",
        "restaurant_B = np.array([31, 33, 35, 30, 32, 36])\n",
        "\n",
        "# Calculate the sample variances for each restaurant\n",
        "var_A = np.var(restaurant_A, ddof=1)  # Sample variance for Restaurant A\n",
        "var_B = np.var(restaurant_B, ddof=1)  # Sample variance for Restaurant B\n",
        "\n",
        "# Calculate the F-statistic (ratio of variances)\n",
        "F_value = var_A / var_B if var_A > var_B else var_B / var_A\n",
        "\n",
        "# Degrees of freedom for the two samples\n",
        "df_A = len(restaurant_A) - 1\n",
        "df_B = len(restaurant_B) - 1\n",
        "\n",
        "# Calculate the critical F-values for a two-tailed test at 5% significance level\n",
        "alpha = 0.05\n",
        "critical_F_upper = f.ppf(1 - alpha / 2, df_A, df_B)\n",
        "critical_F_lower = f.ppf(alpha / 2, df_A, df_B)\n",
        "\n",
        "# Calculate the p-value for the F-statistic\n",
        "p_value = 2 * min(f.cdf(F_value, df_A, df_B), 1 - f.cdf(F_value, df_A, df_B))\n",
        "\n",
        "# Determine if we reject the null hypothesis\n",
        "reject_null = (F_value < critical_F_lower or F_value > critical_F_upper)\n",
        "\n",
        "# Output the results\n",
        "print(f\"F-value: {F_value}\")\n",
        "print(f\"Degrees of freedom (df_A): {df_A}, Degrees of freedom (df_B): {df_B}\")\n",
        "print(f\"Critical F-values: Lower: {critical_F_lower}, Upper: {critical_F_upper}\")\n",
        "print(f\"P-value: {p_value}\")\n",
        "\n",
        "# Interpretation\n",
        "if reject_null:\n",
        "    print(\"Reject the null hypothesis: The variances are significantly different.\")\n",
        "else:\n",
        "    print(\"Fail to reject the null hypothesis: The variances are not significantly different.\")\n"
      ],
      "metadata": {
        "colab": {
          "base_uri": "https://localhost:8080/"
        },
        "id": "2cEZAueDeVD2",
        "outputId": "f10f6148-9104-4ffd-c256-cfcfa0158993"
      },
      "execution_count": 8,
      "outputs": [
        {
          "output_type": "stream",
          "name": "stdout",
          "text": [
            "F-value: 1.4551907719609583\n",
            "Degrees of freedom (df_A): 6, Degrees of freedom (df_B): 5\n",
            "Critical F-values: Lower: 0.16701279718024772, Upper: 6.977701858535566\n",
            "P-value: 0.6974815747937484\n",
            "Fail to reject the null hypothesis: The variances are not significantly different.\n"
          ]
        }
      ]
    },
    {
      "cell_type": "markdown",
      "source": [
        "### Q9"
      ],
      "metadata": {
        "id": "rk4bqYgWgwxE"
      }
    },
    {
      "cell_type": "code",
      "source": [
        "import numpy as np\n",
        "from scipy.stats import f\n",
        "\n",
        "# Data for the two groups\n",
        "group_A = np.array([80, 85, 90, 92, 87, 83])\n",
        "group_B = np.array([75, 78, 82, 79, 81, 84])\n",
        "\n",
        "# Calculate the sample variances for each group\n",
        "var_A = np.var(group_A, ddof=1)  # Sample variance for Group A\n",
        "var_B = np.var(group_B, ddof=1)  # Sample variance for Group B\n",
        "\n",
        "# Calculate the F-statistic (ratio of variances)\n",
        "F_value = var_A / var_B if var_A > var_B else var_B / var_A\n",
        "\n",
        "# Degrees of freedom for the two samples\n",
        "df_A = len(group_A) - 1\n",
        "df_B = len(group_B) - 1\n",
        "\n",
        "# Calculate the critical F-values for a two-tailed test at 1% significance level\n",
        "alpha = 0.01\n",
        "critical_F_upper = f.ppf(1 - alpha / 2, df_A, df_B)\n",
        "critical_F_lower = f.ppf(alpha / 2, df_A, df_B)\n",
        "\n",
        "# Calculate the p-value for the F-statistic\n",
        "p_value = 2 * min(f.cdf(F_value, df_A, df_B), 1 - f.cdf(F_value, df_A, df_B))\n",
        "\n",
        "# Determine if we reject the null hypothesis\n",
        "reject_null = (F_value < critical_F_lower or F_value > critical_F_upper)\n",
        "\n",
        "# Output the results\n",
        "print(f\"F-value: {F_value}\")\n",
        "print(f\"Degrees of freedom (df_A): {df_A}, Degrees of freedom (df_B): {df_B}\")\n",
        "print(f\"Critical F-values: Lower: {critical_F_lower}, Upper: {critical_F_upper}\")\n",
        "print(f\"P-value: {p_value}\")\n",
        "\n",
        "# Interpretation\n",
        "if reject_null:\n",
        "    print(\"Reject the null hypothesis: The variances are significantly different.\")\n",
        "else:\n",
        "    print(\"Fail to reject the null hypothesis: The variances are not significantly different.\")\n"
      ],
      "metadata": {
        "colab": {
          "base_uri": "https://localhost:8080/"
        },
        "id": "RS3hIVN5gxFL",
        "outputId": "0e0dff5e-da2d-45a4-b7c8-7b317f0df55b"
      },
      "execution_count": 9,
      "outputs": [
        {
          "output_type": "stream",
          "name": "stdout",
          "text": [
            "F-value: 1.9442622950819677\n",
            "Degrees of freedom (df_A): 5, Degrees of freedom (df_B): 5\n",
            "Critical F-values: Lower: 0.066936171954696, Upper: 14.939605459912224\n",
            "P-value: 0.4831043549070688\n",
            "Fail to reject the null hypothesis: The variances are not significantly different.\n"
          ]
        }
      ]
    },
    {
      "cell_type": "code",
      "source": [],
      "metadata": {
        "id": "wMNdp8JGhEH7"
      },
      "execution_count": null,
      "outputs": []
    }
  ]
}